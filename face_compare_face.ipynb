{
  "nbformat": 4,
  "nbformat_minor": 0,
  "metadata": {
    "colab": {
      "name": "face_compare_face.ipynb",
      "provenance": [],
      "collapsed_sections": [],
      "include_colab_link": true
    },
    "kernelspec": {
      "name": "python3",
      "display_name": "Python 3"
    }
  },
  "cells": [
    {
      "cell_type": "markdown",
      "metadata": {
        "id": "view-in-github",
        "colab_type": "text"
      },
      "source": [
        "<a href=\"https://colab.research.google.com/github/Zork777/keros/blob/master/face_compare_face.ipynb\" target=\"_parent\"><img src=\"https://colab.research.google.com/assets/colab-badge.svg\" alt=\"Open In Colab\"/></a>"
      ]
    },
    {
      "cell_type": "code",
      "metadata": {
        "id": "gBDBQNFskQ2G",
        "colab_type": "code",
        "colab": {}
      },
      "source": [
        "import dlib\n",
        "import os\n",
        "from skimage import io\n",
        "from scipy.spatial import distance"
      ],
      "execution_count": 1,
      "outputs": []
    },
    {
      "cell_type": "code",
      "metadata": {
        "id": "UJY5FXkgy9NN",
        "colab_type": "code",
        "colab": {}
      },
      "source": [
        "#загружаем модель\n",
        "model_path = 'http://dlib.net/files/'\n",
        "model_predictor = 'shape_predictor_68_face_landmarks.dat.bz2'\n",
        "model_recognition = 'dlib_face_recognition_resnet_model_v1.dat.bz2'"
      ],
      "execution_count": 2,
      "outputs": []
    },
    {
      "cell_type": "code",
      "metadata": {
        "id": "gbeKqExQzw9e",
        "colab_type": "code",
        "colab": {}
      },
      "source": [
        "os.environ['MODEL_PATH_predictor']=model_path + model_predictor\n",
        "os.environ['MODEL_PATH_recognition']=model_path + model_recognition\n",
        "os.environ['MODEL_FILE_NAME_predictor']=model_predictor\n",
        "os.environ['MODEL_FILE_NAME_recognition']=model_recognition"
      ],
      "execution_count": 3,
      "outputs": []
    },
    {
      "cell_type": "code",
      "metadata": {
        "id": "JKlsb5_D0RN_",
        "colab_type": "code",
        "colab": {
          "base_uri": "https://localhost:8080/",
          "height": 408
        },
        "outputId": "866c2fdf-f977-4418-f0d9-68de5c743622",
        "tags": []
      },
      "source": [
        "!rm $MODEL_FILE_NAME_predictor\n",
        "!rm $MODEL_FILE_NAME_recognition\n",
        "!wget $MODEL_PATH_predictor\n",
        "!wget $MODEL_PATH_recognition\n",
        "!bzip2 -dk $MODEL_FILE_NAME_predictor\n",
        "!bzip2 -dk $MODEL_FILE_NAME_recognition"
      ],
      "execution_count": 4,
      "outputs": [
        {
          "output_type": "stream",
          "name": "stderr",
          "text": "rm: cannot remove '$MODEL_FILE_NAME_predictor': No such file or directory\nrm: cannot remove '$MODEL_FILE_NAME_recognition': No such file or directory\n--2020-08-02 19:19:32--  http://$model_path_predictor/\nResolving $model_path_predictor ($model_path_predictor)... failed: Name or service not known.\nwget: unable to resolve host address '$model_path_predictor'\n--2020-08-02 19:19:34--  http://$model_path_recognition/\nResolving $model_path_recognition ($model_path_recognition)... failed: Name or service not known.\nwget: unable to resolve host address '$model_path_recognition'\nbzip2: Can't open input file $MODEL_FILE_NAME_predictor: No such file or directory.\nbzip2: Can't open input file $MODEL_FILE_NAME_recognition: No such file or directory.\n"
        }
      ]
    },
    {
      "cell_type": "code",
      "metadata": {
        "id": "qKFTXliC8HFd",
        "colab_type": "code",
        "colab": {
          "base_uri": "https://localhost:8080/",
          "height": 163
        },
        "outputId": "e86fa76a-241e-4666-f6ee-f38354d0dd41"
      },
      "source": [
        "dlib.cuda.get_num_devices()"
      ],
      "execution_count": 5,
      "outputs": [
        {
          "output_type": "execute_result",
          "data": {
            "text/plain": "1"
          },
          "metadata": {},
          "execution_count": 5
        }
      ]
    },
    {
      "cell_type": "code",
      "metadata": {
        "id": "eHG91Yrfz-8Y",
        "colab_type": "code",
        "colab": {
          "base_uri": "https://localhost:8080/",
          "height": 197
        },
        "outputId": "e9b5da09-fe32-4065-c11f-4b4c9470aae1"
      },
      "source": [
        "sp = dlib.shape_predictor('shape_predictor_68_face_landmarks.dat')\n",
        "facerec = dlib.face_recognition_model_v1('dlib_face_recognition_resnet_model_v1.dat')\n",
        "detector = dlib.get_frontal_face_detector()"
      ],
      "execution_count": 7,
      "outputs": []
    },
    {
      "cell_type": "code",
      "execution_count": 167,
      "metadata": {},
      "outputs": [],
      "source": [
        "class Face_recognition(object):\n",
        "    def __init__(self, img):\n",
        "        self.img = img\n",
        "    \n",
        "    def view_img(self):\n",
        "        self.win1 = dlib.image_window()\n",
        "        self.win1.clear_overlay()\n",
        "        self.img = dlib.resize_image(self.img, 0.1)\n",
        "        self.win1.set_image(self.img)\n",
        "    \n",
        "    def close_img(self):\n",
        "        dlib.close_img()\n",
        "#        self.win1.()\n",
        "\n",
        "    def detector(self):\n",
        "        descriptors=[]\n",
        "        self.dets = detector(self.img, 1)\n",
        "        print ('found face-',len(self.dets))\n",
        "        if self.dets:\n",
        "            for k, d in enumerate(self.dets):\n",
        "                print(\"Detection {}: Left: {} Top: {} Right: {} Bottom: {}\".format(\n",
        "                        k, d.left(), d.top(), d.right(), d.bottom()))\n",
        "                self.shape = sp(self.img, d)\n",
        "                self.win1.clear_overlay()\n",
        "                self.win1.add_overlay(d)\n",
        "                self.win1.add_overlay(self.shape)\n",
        "                descriptors.append(self.descriptor())\n",
        "            return descriptors\n",
        "        else:\n",
        "            print ('not found face!')\n",
        "            return -1\n",
        "        \n",
        "    def descriptor(self):\n",
        "        return facerec.compute_face_descriptor(self.img, self.shape)\n"
      ]
    },
    {
      "cell_type": "code",
      "metadata": {
        "id": "S5Mfcy0k7b0v",
        "colab_type": "code",
        "colab": {}
      },
      "source": [
        "img = io.imread('image_face\\\\zork.jpg')"
      ],
      "execution_count": 168,
      "outputs": []
    },
    {
      "cell_type": "code",
      "execution_count": 169,
      "metadata": {
        "tags": []
      },
      "outputs": [
        {
          "output_type": "stream",
          "name": "stdout",
          "text": "found face- 1\nDetection 0: Left: 31 Top: 32 Right: 83 Bottom: 84\n"
        }
      ],
      "source": [
        "first_img = Face_recognition(img)\n",
        "first_img.view_img()\n",
        "face_descriptor1 = first_img.detector()"
      ]
    },
    {
      "cell_type": "code",
      "execution_count": 176,
      "metadata": {},
      "outputs": [],
      "source": [
        "img = io.imread('image_face\\\\6.jpg')"
      ]
    },
    {
      "cell_type": "code",
      "execution_count": 177,
      "metadata": {
        "tags": []
      },
      "outputs": [
        {
          "output_type": "stream",
          "name": "stdout",
          "text": "found face- 0\nnot found face!\n"
        }
      ],
      "source": [
        "second_img = Face_recognition(img)\n",
        "second_img.view_img()\n",
        "face_descriptor2 = second_img.detector()"
      ]
    },
    {
      "cell_type": "code",
      "execution_count": 172,
      "metadata": {
        "tags": []
      },
      "outputs": [
        {
          "output_type": "stream",
          "name": "stdout",
          "text": "0.42609670756064816\nfound face!\n"
        }
      ],
      "source": [
        "for desc2 in face_descriptor2:\n",
        "    a = distance.euclidean(face_descriptor1, desc2) \n",
        "    print(a)\n",
        "    if a < 0.6:\n",
        "        print (\"found face!\")\n",
        "    else:\n",
        "        pass\n",
        "#        second_img.close_img()\n",
        "    "
      ]
    }
  ]
}